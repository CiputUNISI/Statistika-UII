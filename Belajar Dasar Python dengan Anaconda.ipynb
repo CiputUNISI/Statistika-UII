{
 "cells": [
  {
   "cell_type": "markdown",
   "metadata": {},
   "source": [
    "# Belajar Dasar Python Bersama Jendela Statistika\n"
   ]
  },
  {
   "cell_type": "markdown",
   "metadata": {},
   "source": [
    "# Daftar Rute Belajar\n",
    "\n",
    "<ul>\n",
    "    <li>Install Python (ANACONDA)</li>\n",
    "    <li>Tipe Data (Dasar)</li>\n",
    "    <li>Matematika Sederhana</li>\n",
    "</ul>"
   ]
  },
  {
   "cell_type": "markdown",
   "metadata": {},
   "source": [
    "#  Kenapa Python Dengan ANACONDA <br>\n",
    "\n",
    "Python dengan Anaconda adalah Open Source (Bebas).</font>\n",
    "Banyak orang dari seluruh dunia terus-menerus memperbaiki python dan di Anaconda ada tool Jupyter Notebook yang mudah digunakan untuk tampilan dokumentasi.\n",
    "\n",
    "Paling penting adalah Mereka digunakan di seluruh dunia."
   ]
  },
  {
   "cell_type": "markdown",
   "metadata": {},
   "source": [
    "# Kenapa Ipython/Jupyter\n",
    "\n",
    "Ipython/Jupyter bisa membuat \"coder lab notebook\" — yang memungkinkan pengguna untuk interaktif pada data, koding dan menjelaskan pembahasan dalam satu halaman berbasis browser, bukan dalam file terpisah."
   ]
  },
  {
   "cell_type": "markdown",
   "metadata": {},
   "source": [
    "Sistem operasi | Postingan blog | Video Youtube\n",
    "--- | --- | ---\n",
    "Mac | [Install Anaconda on Mac](https://medium.com/@GalarnykMichael/install-python-on-mac-anaconda-ccd9f2014072#.lvhw2gt3k \"Install Anaconda on Mac\") | [Youtube Video](https://www.youtube.com/watch?v=B6d5LrA8bNE \"Youtube Video\")\n",
    "Ubuntu | [Install Anaconda on Ubuntu](https://medium.com/@GalarnykMichael/install-python-on-ubuntu-anaconda-65623042cb5a#.4kwsp0wjl \"Install Anaconda on Ubuntu\") | [Youtube Video](https://www.youtube.com/watch?v=jo4RMiM-ihs \"Youtube Video\")\n",
    "Windows | [Install Anaconda on Windows](https://medium.com/@GalarnykMichael/install-python-on-windows-anaconda-c63c7c3d1444#.66f7y3whf \"Install Anaconda on Windows\") | [Youtube Video](https://www.youtube.com/watch?v=KH2yIk03jFc&t=1s \"Youtube Video\")"
   ]
  },
  {
   "cell_type": "markdown",
   "metadata": {},
   "source": [
    "##  Tipe Data\n",
    "\n",
    "Tipe data dasar yang utama di python adalah angka (integer dan float), Boolean, list, dan string."
   ]
  },
  {
   "cell_type": "markdown",
   "metadata": {},
   "source": [
    "### Hello Rudy!   Kenalan yuks\n",
    "\n",
    "Hal yang perlu diingat, Jika kita menuliskan huruf maka harus berada dalam tanda kutip, ini adalah perintah dasar di dalam memulai koding di python.\n",
    "\n",
    "##  Hay saya type String "
   ]
  },
  {
   "cell_type": "code",
   "execution_count": 33,
   "metadata": {
    "collapsed": false
   },
   "outputs": [
    {
     "name": "stdout",
     "output_type": "stream",
     "text": [
      "Hello Rudy!\n"
     ]
    }
   ],
   "source": [
    "# Ini adalah satu baris komentar\n",
    "print('Hello Rudy!')"
   ]
  },
  {
   "cell_type": "markdown",
   "metadata": {},
   "source": [
    "## Hay saya type Integer dan Float"
   ]
  },
  {
   "cell_type": "code",
   "execution_count": 34,
   "metadata": {
    "collapsed": false
   },
   "outputs": [
    {
     "data": {
      "text/plain": [
       "25"
      ]
     },
     "execution_count": 34,
     "metadata": {},
     "output_type": "execute_result"
    }
   ],
   "source": [
    "25        # interger"
   ]
  },
  {
   "cell_type": "code",
   "execution_count": 35,
   "metadata": {
    "collapsed": false
   },
   "outputs": [
    {
     "data": {
      "text/plain": [
       "0.99"
      ]
     },
     "execution_count": 35,
     "metadata": {},
     "output_type": "execute_result"
    }
   ],
   "source": [
    "0.99       # float"
   ]
  },
  {
   "cell_type": "markdown",
   "metadata": {},
   "source": [
    "## Hei saya type Booleans "
   ]
  },
  {
   "cell_type": "code",
   "execution_count": 36,
   "metadata": {
    "collapsed": false
   },
   "outputs": [
    {
     "name": "stdout",
     "output_type": "stream",
     "text": [
      "(False, True, False)\n"
     ]
    }
   ],
   "source": [
    "number = 25\n",
    "print(number == 2, number > 2, number <= 1, )"
   ]
  },
  {
   "cell_type": "markdown",
   "metadata": {},
   "source": [
    "## Hei saya type List"
   ]
  },
  {
   "cell_type": "code",
   "execution_count": 42,
   "metadata": {
    "collapsed": false
   },
   "outputs": [
    {
     "data": {
      "text/plain": [
       "[1, 2, 3, 4]"
      ]
     },
     "execution_count": 42,
     "metadata": {},
     "output_type": "execute_result"
    }
   ],
   "source": [
    "[1,2,3,4]  # list"
   ]
  },
  {
   "cell_type": "markdown",
   "metadata": {},
   "source": [
    "# Matematika Sederhana\n"
   ]
  },
  {
   "cell_type": "code",
   "execution_count": 37,
   "metadata": {
    "collapsed": false
   },
   "outputs": [
    {
     "data": {
      "text/plain": [
       "2"
      ]
     },
     "execution_count": 37,
     "metadata": {},
     "output_type": "execute_result"
    }
   ],
   "source": [
    "# Penambahan \n",
    "1 + 1"
   ]
  },
  {
   "cell_type": "code",
   "execution_count": 38,
   "metadata": {
    "collapsed": false
   },
   "outputs": [
    {
     "data": {
      "text/plain": [
       "128"
      ]
     },
     "execution_count": 38,
     "metadata": {},
     "output_type": "execute_result"
    }
   ],
   "source": [
    "130-2 # Pengurangan"
   ]
  },
  {
   "cell_type": "code",
   "execution_count": 39,
   "metadata": {
    "collapsed": false
   },
   "outputs": [
    {
     "data": {
      "text/plain": [
       "65"
      ]
     },
     "execution_count": 39,
     "metadata": {},
     "output_type": "execute_result"
    }
   ],
   "source": [
    "# Pembagian\n",
    "130/2"
   ]
  },
  {
   "cell_type": "code",
   "execution_count": 40,
   "metadata": {
    "collapsed": false
   },
   "outputs": [
    {
     "data": {
      "text/plain": [
       "6"
      ]
     },
     "execution_count": 40,
     "metadata": {},
     "output_type": "execute_result"
    }
   ],
   "source": [
    "# Perkalian\n",
    "2*3"
   ]
  },
  {
   "cell_type": "code",
   "execution_count": 41,
   "metadata": {
    "collapsed": false
   },
   "outputs": [
    {
     "data": {
      "text/plain": [
       "8"
      ]
     },
     "execution_count": 41,
     "metadata": {},
     "output_type": "execute_result"
    }
   ],
   "source": [
    "# Pangkat ** \n",
    "\n",
    "2**3"
   ]
  },
  {
   "cell_type": "markdown",
   "metadata": {},
   "source": [
    "## Operator perbandingan\n",
    "\n",
    "Operator perbandingan | Fungsi\n",
    "--- | --- \n",
    "< | kurang dari \n",
    "<= | kurang dari atau Samadengan\n",
    "> | lebih besar dari\n",
    ">= | lebih besar dari atau Samadengan\n",
    "== | Samadengan\n",
    "!= | Tidak Samadengan"
   ]
  },
  {
   "cell_type": "markdown",
   "metadata": {},
   "source": [
    "### Cara Pengecekan suatu type data"
   ]
  },
  {
   "cell_type": "code",
   "execution_count": 43,
   "metadata": {
    "collapsed": false
   },
   "outputs": [
    {
     "data": {
      "text/plain": [
       "str"
      ]
     },
     "execution_count": 43,
     "metadata": {},
     "output_type": "execute_result"
    }
   ],
   "source": [
    "type ('2014')"
   ]
  },
  {
   "cell_type": "code",
   "execution_count": 45,
   "metadata": {
    "collapsed": false
   },
   "outputs": [
    {
     "data": {
      "text/plain": [
       "list"
      ]
     },
     "execution_count": 45,
     "metadata": {},
     "output_type": "execute_result"
    }
   ],
   "source": [
    "type ([6, 7, 8, 9])"
   ]
  },
  {
   "cell_type": "code",
   "execution_count": 57,
   "metadata": {
    "collapsed": false
   },
   "outputs": [
    {
     "data": {
      "text/plain": [
       "float"
      ]
     },
     "execution_count": 57,
     "metadata": {},
     "output_type": "execute_result"
    }
   ],
   "source": [
    "type (0.2)"
   ]
  },
  {
   "cell_type": "code",
   "execution_count": 58,
   "metadata": {
    "collapsed": false
   },
   "outputs": [
    {
     "data": {
      "text/plain": [
       "int"
      ]
     },
     "execution_count": 58,
     "metadata": {},
     "output_type": "execute_result"
    }
   ],
   "source": [
    "type (0)"
   ]
  },
  {
   "cell_type": "markdown",
   "metadata": {},
   "source": [
    "### Menuliskan \" Variabel \"\n",
    "\n",
    "* Kita Dapat Menamakan Variabel Apapun Di Python\n",
    "* Saran : Lakukan Penamaan Yang Mudah Di Ingat"
   ]
  },
  {
   "cell_type": "code",
   "execution_count": 47,
   "metadata": {
    "collapsed": true
   },
   "outputs": [],
   "source": [
    "Nama = \"Rudy Prietno\""
   ]
  },
  {
   "cell_type": "code",
   "execution_count": 49,
   "metadata": {
    "collapsed": false,
    "scrolled": false
   },
   "outputs": [
    {
     "name": "stdout",
     "output_type": "stream",
     "text": [
      "Rudy Prietno\n"
     ]
    }
   ],
   "source": [
    "print Nama"
   ]
  },
  {
   "cell_type": "code",
   "execution_count": 50,
   "metadata": {
    "collapsed": false,
    "scrolled": true
   },
   "outputs": [
    {
     "name": "stdout",
     "output_type": "stream",
     "text": [
      "24\n"
     ]
    }
   ],
   "source": [
    "Usia = 24\n",
    "print Usia"
   ]
  },
  {
   "cell_type": "markdown",
   "metadata": {},
   "source": [
    "### Perhatikan Hal Berikut Ini untuk bisa memahami perbedaan float dan integer"
   ]
  },
  {
   "cell_type": "code",
   "execution_count": 53,
   "metadata": {
    "collapsed": false
   },
   "outputs": [
    {
     "name": "stdout",
     "output_type": "stream",
     "text": [
      "2\n"
     ]
    }
   ],
   "source": [
    "#type integer digunakan untuk bilangan bulat\n",
    "rd1 = 22/8\n",
    "print rd1"
   ]
  },
  {
   "cell_type": "code",
   "execution_count": 59,
   "metadata": {
    "collapsed": false
   },
   "outputs": [
    {
     "name": "stdout",
     "output_type": "stream",
     "text": [
      "2.75\n"
     ]
    }
   ],
   "source": [
    "#type float ini digunakan untuk decimal\n",
    "\n",
    "rd2 = 22/8.0\n",
    "print rd2"
   ]
  },
  {
   "cell_type": "markdown",
   "metadata": {},
   "source": [
    "### Fungsi\n",
    "\n",
    "* Fungsi Adalah Sebuah Urutan Penyataan dalam Melakukan Sebuat Logika Perhitungan.\n",
    "* Saat Kita Mendifinisikan Sebuah Fungsi, Maka Kita akan Menentukan Nama Dan Urutan Pernyataan.\n",
    "* Fungsi Di Memasukan Input (r) dan Mengembalikan Output (r).\n",
    "* Kemudian, Kita Bisa Memanggil Fungsi Sesuai Nama Yang Di Berikan."
   ]
  },
  {
   "cell_type": "code",
   "execution_count": 60,
   "metadata": {
    "collapsed": true
   },
   "outputs": [],
   "source": [
    "#untuk membuat sebuah fungsi awali dengan def > nama fungsi> statement/definsi logika\n",
    "\n",
    "def PythonDasar():  \n",
    "    print \"Python\" \n",
    "    print \"Kita Belajar Dasar Python\" \n",
    "    print \"Kita Akan Jago Python\"\n",
    "    print \"Kita Bisa Pintar Python Jika Rajin\"\n",
    "    print \"Ayo Belajar Python\""
   ]
  },
  {
   "cell_type": "code",
   "execution_count": 61,
   "metadata": {
    "collapsed": false
   },
   "outputs": [
    {
     "name": "stdout",
     "output_type": "stream",
     "text": [
      "Python\n",
      "Kita Belajar Dasar Python\n",
      "Kita Akan Jago Python\n",
      "Kita Bisa Pintar Python Jika Rajin\n",
      "Ayo Belajar Python\n"
     ]
    }
   ],
   "source": [
    "PythonDasar () "
   ]
  },
  {
   "cell_type": "code",
   "execution_count": 62,
   "metadata": {
    "collapsed": true
   },
   "outputs": [],
   "source": [
    "def repeatPythonDasar():      #membuat fungsi 3 kali di ulang\n",
    "    PythonDasar () \n",
    "    PythonDasar () \n",
    "    PythonDasar () "
   ]
  },
  {
   "cell_type": "code",
   "execution_count": 63,
   "metadata": {
    "collapsed": false
   },
   "outputs": [
    {
     "name": "stdout",
     "output_type": "stream",
     "text": [
      "Python\n",
      "Kita Belajar Dasar Python\n",
      "Kita Akan Jago Python\n",
      "Kita Bisa Pintar Python Jika Rajin\n",
      "Ayo Belajar Python\n",
      "Python\n",
      "Kita Belajar Dasar Python\n",
      "Kita Akan Jago Python\n",
      "Kita Bisa Pintar Python Jika Rajin\n",
      "Ayo Belajar Python\n",
      "Python\n",
      "Kita Belajar Dasar Python\n",
      "Kita Akan Jago Python\n",
      "Kita Bisa Pintar Python Jika Rajin\n",
      "Ayo Belajar Python\n"
     ]
    }
   ],
   "source": [
    "repeatPythonDasar()"
   ]
  },
  {
   "cell_type": "markdown",
   "metadata": {},
   "source": [
    "# Mengenal Perulangan Di Python\n",
    "\n",
    "### Ada 3 macam bentuk perulangan pada Python, yaitu:\n",
    "* FOR Loop\n",
    "* WHILE Loop\n",
    "* Nested loop ( digabung antara For dan While)"
   ]
  },
  {
   "cell_type": "markdown",
   "metadata": {},
   "source": [
    "### for loop\n",
    "\n",
    "for loop digunakan untuk mengeksekusi blok kode sesuai dengan urutan data, seperti array ataupun string."
   ]
  },
  {
   "cell_type": "code",
   "execution_count": 74,
   "metadata": {
    "collapsed": false
   },
   "outputs": [
    {
     "name": "stdout",
     "output_type": "stream",
     "text": [
      "Bahasa yang Dipelajari Rudy :  Python\n",
      "Bahasa yang Dipelajari Rudy :  R\n",
      "Bahasa yang Dipelajari Rudy :  Sql\n",
      "selesai\n"
     ]
    }
   ],
   "source": [
    "bahasa = ['Python','R', 'Sql']\n",
    "for pecah in bahasa:\n",
    "        print 'Bahasa yang Dipelajari Rudy : ', pecah\n",
    " \n",
    "print \"selesai\""
   ]
  },
  {
   "cell_type": "markdown",
   "metadata": {},
   "source": [
    "### while loop\n",
    "\n",
    "While Loop akan menjalankan statemet selama kondisi terpenuhi (atau bernilai true)."
   ]
  },
  {
   "cell_type": "code",
   "execution_count": 75,
   "metadata": {
    "collapsed": false
   },
   "outputs": [
    {
     "name": "stdout",
     "output_type": "stream",
     "text": [
      "Angka:  0\n",
      "Angka:  1\n",
      "Angka:  2\n",
      "Angka:  3\n",
      "Angka:  4\n",
      "Selesai\n"
     ]
    }
   ],
   "source": [
    "nilai = 0\n",
    "while (nilai < 5):\n",
    "        print 'Angka: ', nilai\n",
    "        nilai = nilai + 1\n",
    " \n",
    "print \"Selesai\""
   ]
  },
  {
   "cell_type": "markdown",
   "metadata": {},
   "source": [
    "### nested loop\n",
    "\n",
    "Nested loop atau loop bersarang, bahasa pemrograman python mengijinkan penggunaan loop di dalam loop."
   ]
  },
  {
   "cell_type": "code",
   "execution_count": 81,
   "metadata": {
    "collapsed": false
   },
   "outputs": [
    {
     "name": "stdout",
     "output_type": "stream",
     "text": [
      "2  adalah bilang prima\n",
      "3  adalah bilang prima\n",
      "4 = 2 * 2\n",
      "5  adalah bilang prima\n",
      "6 = 2 * 3\n",
      "7  adalah bilang prima\n",
      "8 = 2 * 4\n",
      "9 = 3 * 3\n",
      "10 = 2 * 5\n",
      "11  adalah bilang prima\n",
      "12 = 2 * 6\n",
      "13  adalah bilang prima\n",
      "14 = 2 * 7\n",
      "selesai\n"
     ]
    }
   ],
   "source": [
    "for num in range(2,15):\n",
    "        for i in range(2,num):\n",
    "              if num%i==0:\n",
    "                       j=num/i\n",
    "                       print '%d = %d * %d' % (num, i, j)\n",
    "                       break\n",
    "        else:\n",
    "              print num, ' adalah bilang prima'\n",
    " \n",
    "print \"selesai\""
   ]
  },
  {
   "cell_type": "code",
   "execution_count": 80,
   "metadata": {
    "collapsed": false
   },
   "outputs": [
    {
     "name": "stdout",
     "output_type": "stream",
     "text": [
      "(2, ' adalah bilangan prima')\n",
      "(3, ' adalah bilangan prima')\n",
      "(5, ' adalah bilangan prima')\n",
      "(7, ' adalah bilangan prima')\n",
      "(11, ' adalah bilangan prima')\n",
      "(13, ' adalah bilangan prima')\n"
     ]
    }
   ],
   "source": [
    "i = 2\n",
    "while(i < 15):\n",
    "   j = 2\n",
    "   while(j <= (i/j)):\n",
    "      if not(i%j): break\n",
    "      j = j + 1\n",
    "   if (j > i/j) : print (i, \" adalah bilangan prima\")\n",
    "   i = i + 1"
   ]
  }
 ],
 "metadata": {
  "kernelspec": {
   "display_name": "Python 2",
   "language": "python",
   "name": "python2"
  },
  "language_info": {
   "codemirror_mode": {
    "name": "ipython",
    "version": 2
   },
   "file_extension": ".py",
   "mimetype": "text/x-python",
   "name": "python",
   "nbconvert_exporter": "python",
   "pygments_lexer": "ipython2",
   "version": "2.7.13"
  }
 },
 "nbformat": 4,
 "nbformat_minor": 2
}

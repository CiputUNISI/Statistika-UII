{
 "cells": [
  {
   "cell_type": "markdown",
   "metadata": {},
   "source": [
    "# Koefisien korelasi"
   ]
  },
  {
   "cell_type": "markdown",
   "metadata": {
    "collapsed": true
   },
   "source": [
    "Koefisien korelasi mengukur sejauh mana hubungan antara dua variabel linier. Nilai adalah selalu antara -1 dan 1.\n",
    "\n",
    "Koefisien positif menunjukkan bahwa variabel berhubungan langsung, yaitu ketika salah satu meningkat yang lain juga meningkat. Koefisien negatif menunjukkan bahwa variabel berhubungan terbalik, sehingga ketika salah satu naik maka yang lainnya turun. Jika semakin dekat ke 0 maka koefisien korelasi memiliki hubungan yang lemah antara variabel."
   ]
  },
  {
   "cell_type": "code",
   "execution_count": 1,
   "metadata": {
    "collapsed": true
   },
   "outputs": [],
   "source": [
    "import numpy as np\n",
    "from numpy import arange,mean,std\n",
    "import matplotlib.pyplot as plt\n",
    "%matplotlib inline  "
   ]
  },
  {
   "cell_type": "code",
   "execution_count": 2,
   "metadata": {
    "collapsed": false
   },
   "outputs": [],
   "source": [
    "AGE_X = [43, 21, 25, 42, 57, 59, 247] # input data X (AGE)"
   ]
  },
  {
   "cell_type": "code",
   "execution_count": 3,
   "metadata": {
    "collapsed": false
   },
   "outputs": [
    {
     "name": "stdout",
     "output_type": "stream",
     "text": [
      "[43, 21, 25, 42, 57, 59, 247]\n"
     ]
    }
   ],
   "source": [
    "print AGE_X"
   ]
  },
  {
   "cell_type": "code",
   "execution_count": 4,
   "metadata": {
    "collapsed": false
   },
   "outputs": [],
   "source": [
    "GLUCOSE_Y =[99, 65, 79, 75, 87, 81, 486] # input data Y (GlUCOSE)"
   ]
  },
  {
   "cell_type": "code",
   "execution_count": 5,
   "metadata": {
    "collapsed": false,
    "scrolled": true
   },
   "outputs": [
    {
     "name": "stdout",
     "output_type": "stream",
     "text": [
      "[99, 65, 79, 75, 87, 81, 486]\n"
     ]
    }
   ],
   "source": [
    "print GLUCOSE_Y"
   ]
  },
  {
   "cell_type": "markdown",
   "metadata": {},
   "source": [
    "### Formula koefisien korelasi:"
   ]
  },
  {
   "cell_type": "markdown",
   "metadata": {},
   "source": [
    "$$r(x,y)={1 \\over {N}} \\sum_k^N {(x_k-\\bar{x})(y_k-\\bar{y})\\over\\sigma_x\\sigma_y}$$"
   ]
  },
  {
   "cell_type": "code",
   "execution_count": 6,
   "metadata": {
    "collapsed": false
   },
   "outputs": [
    {
     "name": "stdout",
     "output_type": "stream",
     "text": [
      "r = 0.987618152218\n"
     ]
    }
   ],
   "source": [
    "meanx=mean(AGE_X)\n",
    "meany=mean(GLUCOSE_Y)\n",
    "stdx=std(AGE_X)\n",
    "stdy=std(GLUCOSE_Y)\n",
    "r=mean((AGE_X-mean(AGE_X))*(GLUCOSE_Y-mean(GLUCOSE_Y)))/stdx/stdy\n",
    "print 'r =', r"
   ]
  },
  {
   "cell_type": "markdown",
   "metadata": {},
   "source": [
    "### kita bisa gunakan packages numpy untuk menghitung nilai koefisien korelasi:"
   ]
  },
  {
   "cell_type": "code",
   "execution_count": 7,
   "metadata": {
    "collapsed": false,
    "scrolled": true
   },
   "outputs": [
    {
     "name": "stdout",
     "output_type": "stream",
     "text": [
      "Correlation: 0.987618152218\n"
     ]
    }
   ],
   "source": [
    "print 'Correlation: ' + str(np.corrcoef(AGE_X, GLUCOSE_Y)[0, 1])"
   ]
  },
  {
   "cell_type": "markdown",
   "metadata": {},
   "source": []
  },
  {
   "cell_type": "code",
   "execution_count": 8,
   "metadata": {
    "collapsed": false
   },
   "outputs": [
    {
     "data": {
      "text/plain": [
       "<matplotlib.text.Text at 0x6236d90>"
      ]
     },
     "execution_count": 8,
     "metadata": {},
     "output_type": "execute_result"
    },
    {
     "data": {
      "image/png": "[encoded data removed]",
      "text/plain": [
       "<matplotlib.figure.Figure at 0x6219cd0>"
      ]
     },
     "metadata": {},
     "output_type": "display_data"
    }
   ],
   "source": [
    "plt.scatter(AGE_X, GLUCOSE_Y)\n",
    "plt.xlabel('X Value')\n",
    "plt.ylabel('Y Value')"
   ]
  }
 ],
 "metadata": {
  "kernelspec": {
   "display_name": "Python 2",
   "language": "python",
   "name": "python2"
  },
  "language_info": {
   "codemirror_mode": {
    "name": "ipython",
    "version": 2
   },
   "file_extension": ".py",
   "mimetype": "text/x-python",
   "name": "python",
   "nbconvert_exporter": "python",
   "pygments_lexer": "ipython2",
   "version": "2.7.13"
  }
 },
 "nbformat": 4,
 "nbformat_minor": 2
}

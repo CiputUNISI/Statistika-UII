{
 "cells": [
  {
   "cell_type": "markdown",
   "metadata": {},
   "source": [
    "# <font color='orange'> Belajar Dasar Python Bersama Jendela Statistika</font>\n"
   ]
  },
  {
   "cell_type": "markdown",
   "metadata": {},
   "source": [
    "# Daftar Rute Belajar\n",
    "\n",
    "<ul>\n",
    "    <li>Install Python (ANACONDA)</li>\n",
    "    <li>Tipe Data (Dasar)</li>\n",
    "    <li>Matematika Sederhana</li>\n",
    "</ul>"
   ]
  },
  {
   "cell_type": "markdown",
   "metadata": {},
   "source": [
    "#  Kenapa Python Dengan ANACONDA <br>\n",
    "\n",
    "<font color='green'> Python dengan Anaconda adalah Open Source (Bebas).</font>\n",
    "Banyak orang dari seluruh dunia terus-menerus memperbaiki python dan di Anaconda ada tool Jupyter Notebook yang mudah digunakan untuk tampilan dokumentasi. <br>\n",
    "<br>\n",
    "<font color='red'>Paling penting adalah Mereka digunakan di seluruh dunia.</font>"
   ]
  },
  {
   "cell_type": "markdown",
   "metadata": {},
   "source": [
    "# Kenapa Ipython/Jupyter\n",
    "\n",
    "Ipython/Jupyter bisa membuat \"coder lab notebook\" — yang memungkinkan pengguna untuk interleave data, koding dan menjelaskan pembahasan dalam satu halaman berbasis browser, bukan dalam file terpisah."
   ]
  },
  {
   "cell_type": "markdown",
   "metadata": {},
   "source": [
    "Sistem operasi | Postingan blog | Video Youtube\n",
    "--- | --- | ---\n",
    "Mac | [Install Anaconda on Mac](https://medium.com/@GalarnykMichael/install-python-on-mac-anaconda-ccd9f2014072#.lvhw2gt3k \"Install Anaconda on Mac\") | [Youtube Video](https://www.youtube.com/watch?v=B6d5LrA8bNE \"Youtube Video\")\n",
    "Ubuntu | [Install Anaconda on Ubuntu](https://medium.com/@GalarnykMichael/install-python-on-ubuntu-anaconda-65623042cb5a#.4kwsp0wjl \"Install Anaconda on Ubuntu\") | [Youtube Video](https://www.youtube.com/watch?v=jo4RMiM-ihs \"Youtube Video\")\n",
    "Windows | [Install Anaconda on Windows](https://medium.com/@GalarnykMichael/install-python-on-windows-anaconda-c63c7c3d1444#.66f7y3whf \"Install Anaconda on Windows\") | [Youtube Video](https://www.youtube.com/watch?v=KH2yIk03jFc&t=1s \"Youtube Video\")"
   ]
  },
  {
   "cell_type": "markdown",
   "metadata": {},
   "source": [
    "##  Tipe Data\n",
    "\n",
    "Tipe data dasar yang utama di python adalah angka (integer dan float), Boolean, dan string."
   ]
  },
  {
   "cell_type": "markdown",
   "metadata": {},
   "source": [
    "### Hello Rudy!   \n",
    "\n",
    "# <font color='orange'> Kenalan yuks dengan String </font>\n",
    "\n",
    "\n",
    "<font color='red'> Hal yang perlu diingat </font>, \n",
    "Jika kita menuliskan huruf maka harus berada dalam tanda kutip, ini adalah perintah dasar di dalam memulai coding di python."
   ]
  },
  {
   "cell_type": "code",
   "execution_count": 33,
   "metadata": {
    "collapsed": false
   },
   "outputs": [
    {
     "name": "stdout",
     "output_type": "stream",
     "text": [
      "Hello Rudy!\n"
     ]
    }
   ],
   "source": [
    "# Ini adalah satu baris komentar\n",
    "print('Hello Rudy!')"
   ]
  },
  {
   "cell_type": "markdown",
   "metadata": {},
   "source": [
    "<font color='orange'> Hay mari berjabat tangan dengan integer dan float </font>"
   ]
  },
  {
   "cell_type": "code",
   "execution_count": 34,
   "metadata": {
    "collapsed": false
   },
   "outputs": [
    {
     "data": {
      "text/plain": [
       "25"
      ]
     },
     "execution_count": 34,
     "metadata": {},
     "output_type": "execute_result"
    }
   ],
   "source": [
    "25        # interger"
   ]
  },
  {
   "cell_type": "code",
   "execution_count": 35,
   "metadata": {
    "collapsed": false
   },
   "outputs": [
    {
     "data": {
      "text/plain": [
       "0.99"
      ]
     },
     "execution_count": 35,
     "metadata": {},
     "output_type": "execute_result"
    }
   ],
   "source": [
    "0.99       # float"
   ]
  },
  {
   "cell_type": "markdown",
   "metadata": {},
   "source": [
    "<font color = 'orange'> Hei saya type Booleans </font>"
   ]
  },
  {
   "cell_type": "code",
   "execution_count": 36,
   "metadata": {
    "collapsed": false
   },
   "outputs": [
    {
     "name": "stdout",
     "output_type": "stream",
     "text": [
      "(False, True, False)\n"
     ]
    }
   ],
   "source": [
    "number = 25\n",
    "print(number == 2, number > 2, number <= 1, )"
   ]
  },
  {
   "cell_type": "markdown",
   "metadata": {},
   "source": [
    "# Matematika Sederhana\n"
   ]
  },
  {
   "cell_type": "code",
   "execution_count": 37,
   "metadata": {
    "collapsed": false
   },
   "outputs": [
    {
     "data": {
      "text/plain": [
       "2"
      ]
     },
     "execution_count": 37,
     "metadata": {},
     "output_type": "execute_result"
    }
   ],
   "source": [
    "# Penambahan \n",
    "1 + 1"
   ]
  },
  {
   "cell_type": "code",
   "execution_count": 38,
   "metadata": {
    "collapsed": false
   },
   "outputs": [
    {
     "data": {
      "text/plain": [
       "128"
      ]
     },
     "execution_count": 38,
     "metadata": {},
     "output_type": "execute_result"
    }
   ],
   "source": [
    "130-2 # Pengurangan"
   ]
  },
  {
   "cell_type": "code",
   "execution_count": 39,
   "metadata": {
    "collapsed": false
   },
   "outputs": [
    {
     "data": {
      "text/plain": [
       "65"
      ]
     },
     "execution_count": 39,
     "metadata": {},
     "output_type": "execute_result"
    }
   ],
   "source": [
    "# Pembagian\n",
    "130/2"
   ]
  },
  {
   "cell_type": "code",
   "execution_count": 40,
   "metadata": {
    "collapsed": false
   },
   "outputs": [
    {
     "data": {
      "text/plain": [
       "6"
      ]
     },
     "execution_count": 40,
     "metadata": {},
     "output_type": "execute_result"
    }
   ],
   "source": [
    "# Perkalian\n",
    "2*3"
   ]
  },
  {
   "cell_type": "code",
   "execution_count": 41,
   "metadata": {
    "collapsed": false
   },
   "outputs": [
    {
     "data": {
      "text/plain": [
       "8"
      ]
     },
     "execution_count": 41,
     "metadata": {},
     "output_type": "execute_result"
    }
   ],
   "source": [
    "# Pangkat ** \n",
    "\n",
    "2**3"
   ]
  },
  {
   "cell_type": "markdown",
   "metadata": {},
   "source": [
    "## Operator perbandingan\n",
    "\n",
    "Operator perbandingan | Fungsi\n",
    "--- | --- \n",
    "< | kurang dari \n",
    "<= | kurang dari atau Samadengan\n",
    "> | lebih besar dari\n",
    ">= | ebih besar dari atau Samadengan\n",
    "== | Samadengan\n",
    "!= | Tidak Samadengan"
   ]
  }
 ],
 "metadata": {
  "kernelspec": {
   "display_name": "Python 2",
   "language": "python",
   "name": "python2"
  },
  "language_info": {
   "codemirror_mode": {
    "name": "ipython",
    "version": 2
   },
   "file_extension": ".py",
   "mimetype": "text/x-python",
   "name": "python",
   "nbconvert_exporter": "python",
   "pygments_lexer": "ipython2",
   "version": "2.7.13"
  }
 },
 "nbformat": 4,
 "nbformat_minor": 2
}
